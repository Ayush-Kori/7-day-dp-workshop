{
  "nbformat": 4,
  "nbformat_minor": 0,
  "metadata": {
    "colab": {
      "provenance": [],
      "authorship_tag": "ABX9TyNRhIPsdDhzXZoQLWLIx5ak",
      "include_colab_link": true
    },
    "kernelspec": {
      "name": "python3",
      "display_name": "Python 3"
    },
    "language_info": {
      "name": "python"
    }
  },
  "cells": [
    {
      "cell_type": "markdown",
      "metadata": {
        "id": "view-in-github",
        "colab_type": "text"
      },
      "source": [
        "<a href=\"https://colab.research.google.com/github/Ayush-Kori/7-day-dp-workshop/blob/main/Backtesting_a_year_on_year_seasonal_trading.ipynb\" target=\"_parent\"><img src=\"https://colab.research.google.com/assets/colab-badge.svg\" alt=\"Open In Colab\"/></a>"
      ]
    },
    {
      "cell_type": "code",
      "execution_count": 1,
      "metadata": {
        "id": "988_R_Urs4ug"
      },
      "outputs": [],
      "source": [
        "import numpy as np\n",
        "import pandas as pd\n",
        "df = pd.read_table('SPX_20071123.txt')\n",
        "df['Date']=df['Date'].round().astype('int')"
      ]
    },
    {
      "cell_type": "code",
      "source": [
        "df['Date']=pd.to_datetime(df['Date'], format='%Y%m%d')\n",
        "df.set_index('Date', inplace=True)"
      ],
      "metadata": {
        "id": "sM-w66jytaj6"
      },
      "execution_count": 2,
      "outputs": []
    },
    {
      "cell_type": "code",
      "source": [
        "eomPrice=df.resample('M').last()[:-1] # End of month  prices.  Need to remove last date because it isn't  really end of January.\n",
        "monthlyRet=eomPrice.pct_change(1, fill_method=None)\n",
        "positions=np.zeros(monthlyRet.shape)"
      ],
      "metadata": {
        "colab": {
          "base_uri": "https://localhost:8080/"
        },
        "id": "Ggx0za4JtkPq",
        "outputId": "42365a67-a146-4621-896e-d60b5e23c7e8"
      },
      "execution_count": 3,
      "outputs": [
        {
          "output_type": "stream",
          "name": "stderr",
          "text": [
            "/tmp/ipython-input-2770599154.py:1: FutureWarning: 'M' is deprecated and will be removed in a future version, please use 'ME' instead.\n",
            "  eomPrice=df.resample('M').last()[:-1] # End of month  prices.  Need to remove last date because it isn't  really end of January.\n"
          ]
        }
      ]
    },
    {
      "cell_type": "code",
      "source": [
        "for m in range(13, monthlyRet.shape[0]):\n",
        "  hasData=np.where(np.isfinite(monthlyRet.iloc[m-12,:]))[0]\n",
        "  sortidx=np.argsort(monthlyRet.iloc[m-12, hasData])\n",
        "  badData=np.where(np.logical_not(np.isfinite(monthlyRet.iloc[m-1, hasData[sortidx]])))\n",
        "  topN=np.floor(len(sortidx)/10).astype('int')\n",
        "  positions[m-1, hasData[sortidx.values[np.arange(-topN,0)]]]=1"
      ],
      "metadata": {
        "id": "aJy2JpdAtyzg"
      },
      "execution_count": 4,
      "outputs": []
    },
    {
      "cell_type": "code",
      "source": [
        "capital=np.nansum(np.array(pd.DataFrame(abs(positions)).shift()), axis=1)\n",
        "capital[capital==0]=1\n",
        "ret=np.nansum(np.array(pd.DataFrame(positions).shift()), axis=1)\n",
        "capital[capital==0]=1"
      ],
      "metadata": {
        "id": "xHqa8E6AvfhY"
      },
      "execution_count": 5,
      "outputs": []
    },
    {
      "cell_type": "code",
      "source": [
        "ret=np.nansum(np.array(pd.DataFrame(abs(positions)).shift())*np.array(monthlyRet), axis=1)/capital\n",
        "ret=np.delete(ret, np.arange(13))\n",
        "avgret=np.nanmean(ret)*12\n",
        "sharpe=np.sqrt(12)*np.nanmean(ret)/np.nanstd(ret)\n",
        "print('Avg ann return=%f Sharpe ratio=%f' % (avgret, sharpe))"
      ],
      "metadata": {
        "colab": {
          "base_uri": "https://localhost:8080/"
        },
        "id": "6NXeKpRiwU7P",
        "outputId": "fe6f7c49-efdb-4605-ea47-d6601ef41073"
      },
      "execution_count": 7,
      "outputs": [
        {
          "output_type": "stream",
          "name": "stdout",
          "text": [
            "Avg ann return=0.170872 Sharpe ratio=0.818157\n"
          ]
        }
      ]
    }
  ]
}